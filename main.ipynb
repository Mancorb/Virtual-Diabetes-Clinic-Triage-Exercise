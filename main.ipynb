{
 "cells": [
  {
   "cell_type": "markdown",
   "id": "83ed0d00",
   "metadata": {},
   "source": [
    "Treat y as a progression index: higher values ≈ greater deterioration risk (e.g., rising HbA1c/complications risk). In production, a clinic would train on real outcomes; here, we map the same mechanics to a safe, open dataset."
   ]
  },
  {
   "cell_type": "markdown",
   "id": "c5493dfd",
   "metadata": {},
   "source": [
    "Users & flow.\n",
    "\n",
    "Triage Nurse opens a dashboard sorted by predicted progression (descending).\n",
    "ML Service hosts /predict that the dashboard calls for each patient.\n",
    "MLOps Team (you) owns training, packaging, testing, and releasing the service.\n",
    "_____\n",
    "\n",
    "Non-functional constraints.\n",
    "\n",
    "Portability: Docker image must be self-contained.\n",
    "Observability: Return JSON errors on bad input.\n",
    "Reproducibility: Same code + GitHub Actions should retrain and rebuild deterministically.\n",
    "_______\n",
    "\n",
    "Iteration plan.\n",
    "\n",
    "Iteration 1 (v0.1) — Baseline: simple StandardScaler + LinearRegression. Report RMSE on a held-out split. Ship a working API & Docker image.\n",
    "Iteration 2 (v0.2) — Improvement: try Ridge/RandomForestRegressor or better preprocessing (feature scaling/selection), plus calibration of the score if you convert to a “high-risk” flag (e.g., threshold on predicted progression). Show metric deltas (RMSE; if you add a flag, also precision/recall at a threshold) in CHANGELOG.md."
   ]
  },
  {
   "cell_type": "code",
   "execution_count": 7,
   "id": "bee038d8",
   "metadata": {},
   "outputs": [],
   "source": [
    "#Import dataset\n",
    "from sklearn.datasets import load_diabetes\n",
    "import pandas as pd\n"
   ]
  },
  {
   "cell_type": "code",
   "execution_count": 11,
   "id": "62118ead",
   "metadata": {},
   "outputs": [],
   "source": [
    "Xy = load_diabetes(as_frame=True)\n",
    "\n",
    "X = Xy.frame.drop(columns=[\"target\"])\n",
    "\n",
    "#Act as a \"progresion index\" (Higher = worse)\n",
    "y = Xy.frame[\"target\"]"
   ]
  },
  {
   "cell_type": "code",
   "execution_count": 12,
   "id": "367e910b",
   "metadata": {},
   "outputs": [
    {
     "data": {
      "application/vnd.microsoft.datawrangler.viewer.v0+json": {
       "columns": [
        {
         "name": "index",
         "rawType": "int64",
         "type": "integer"
        },
        {
         "name": "age",
         "rawType": "float64",
         "type": "float"
        },
        {
         "name": "sex",
         "rawType": "float64",
         "type": "float"
        },
        {
         "name": "bmi",
         "rawType": "float64",
         "type": "float"
        },
        {
         "name": "bp",
         "rawType": "float64",
         "type": "float"
        },
        {
         "name": "s1",
         "rawType": "float64",
         "type": "float"
        },
        {
         "name": "s2",
         "rawType": "float64",
         "type": "float"
        },
        {
         "name": "s3",
         "rawType": "float64",
         "type": "float"
        },
        {
         "name": "s4",
         "rawType": "float64",
         "type": "float"
        },
        {
         "name": "s5",
         "rawType": "float64",
         "type": "float"
        },
        {
         "name": "s6",
         "rawType": "float64",
         "type": "float"
        }
       ],
       "ref": "64f742ef-1d5c-43e7-8b2d-be614f5d582e",
       "rows": [
        [
         "0",
         "0.038075906433423026",
         "0.05068011873981862",
         "0.061696206518683294",
         "0.0218723855140367",
         "-0.04422349842444599",
         "-0.03482076283769895",
         "-0.04340084565202491",
         "-0.002592261998183278",
         "0.019907486170462722",
         "-0.01764612515980379"
        ],
        [
         "1",
         "-0.0018820165277906047",
         "-0.044641636506989144",
         "-0.051474061238800654",
         "-0.02632752814785296",
         "-0.008448724111216851",
         "-0.019163339748222204",
         "0.07441156407875721",
         "-0.03949338287409329",
         "-0.0683315470939731",
         "-0.092204049626824"
        ],
        [
         "2",
         "0.08529890629667548",
         "0.05068011873981862",
         "0.04445121333659049",
         "-0.00567042229275739",
         "-0.04559945128264711",
         "-0.03419446591411989",
         "-0.03235593223976409",
         "-0.002592261998183278",
         "0.002861309289833047",
         "-0.025930338989472702"
        ],
        [
         "3",
         "-0.0890629393522567",
         "-0.044641636506989144",
         "-0.011595014505211082",
         "-0.03665608107540074",
         "0.01219056876179996",
         "0.02499059336410222",
         "-0.036037570043851025",
         "0.03430885887772673",
         "0.022687744966501246",
         "-0.009361911330134878"
        ],
        [
         "4",
         "0.005383060374248237",
         "-0.044641636506989144",
         "-0.03638469220446948",
         "0.0218723855140367",
         "0.003934851612593237",
         "0.015596139510416171",
         "0.008142083605192267",
         "-0.002592261998183278",
         "-0.03198763948805312",
         "-0.04664087356364498"
        ]
       ],
       "shape": {
        "columns": 10,
        "rows": 5
       }
      },
      "text/html": [
       "<div>\n",
       "<style scoped>\n",
       "    .dataframe tbody tr th:only-of-type {\n",
       "        vertical-align: middle;\n",
       "    }\n",
       "\n",
       "    .dataframe tbody tr th {\n",
       "        vertical-align: top;\n",
       "    }\n",
       "\n",
       "    .dataframe thead th {\n",
       "        text-align: right;\n",
       "    }\n",
       "</style>\n",
       "<table border=\"1\" class=\"dataframe\">\n",
       "  <thead>\n",
       "    <tr style=\"text-align: right;\">\n",
       "      <th></th>\n",
       "      <th>age</th>\n",
       "      <th>sex</th>\n",
       "      <th>bmi</th>\n",
       "      <th>bp</th>\n",
       "      <th>s1</th>\n",
       "      <th>s2</th>\n",
       "      <th>s3</th>\n",
       "      <th>s4</th>\n",
       "      <th>s5</th>\n",
       "      <th>s6</th>\n",
       "    </tr>\n",
       "  </thead>\n",
       "  <tbody>\n",
       "    <tr>\n",
       "      <th>0</th>\n",
       "      <td>0.038076</td>\n",
       "      <td>0.050680</td>\n",
       "      <td>0.061696</td>\n",
       "      <td>0.021872</td>\n",
       "      <td>-0.044223</td>\n",
       "      <td>-0.034821</td>\n",
       "      <td>-0.043401</td>\n",
       "      <td>-0.002592</td>\n",
       "      <td>0.019907</td>\n",
       "      <td>-0.017646</td>\n",
       "    </tr>\n",
       "    <tr>\n",
       "      <th>1</th>\n",
       "      <td>-0.001882</td>\n",
       "      <td>-0.044642</td>\n",
       "      <td>-0.051474</td>\n",
       "      <td>-0.026328</td>\n",
       "      <td>-0.008449</td>\n",
       "      <td>-0.019163</td>\n",
       "      <td>0.074412</td>\n",
       "      <td>-0.039493</td>\n",
       "      <td>-0.068332</td>\n",
       "      <td>-0.092204</td>\n",
       "    </tr>\n",
       "    <tr>\n",
       "      <th>2</th>\n",
       "      <td>0.085299</td>\n",
       "      <td>0.050680</td>\n",
       "      <td>0.044451</td>\n",
       "      <td>-0.005670</td>\n",
       "      <td>-0.045599</td>\n",
       "      <td>-0.034194</td>\n",
       "      <td>-0.032356</td>\n",
       "      <td>-0.002592</td>\n",
       "      <td>0.002861</td>\n",
       "      <td>-0.025930</td>\n",
       "    </tr>\n",
       "    <tr>\n",
       "      <th>3</th>\n",
       "      <td>-0.089063</td>\n",
       "      <td>-0.044642</td>\n",
       "      <td>-0.011595</td>\n",
       "      <td>-0.036656</td>\n",
       "      <td>0.012191</td>\n",
       "      <td>0.024991</td>\n",
       "      <td>-0.036038</td>\n",
       "      <td>0.034309</td>\n",
       "      <td>0.022688</td>\n",
       "      <td>-0.009362</td>\n",
       "    </tr>\n",
       "    <tr>\n",
       "      <th>4</th>\n",
       "      <td>0.005383</td>\n",
       "      <td>-0.044642</td>\n",
       "      <td>-0.036385</td>\n",
       "      <td>0.021872</td>\n",
       "      <td>0.003935</td>\n",
       "      <td>0.015596</td>\n",
       "      <td>0.008142</td>\n",
       "      <td>-0.002592</td>\n",
       "      <td>-0.031988</td>\n",
       "      <td>-0.046641</td>\n",
       "    </tr>\n",
       "  </tbody>\n",
       "</table>\n",
       "</div>"
      ],
      "text/plain": [
       "        age       sex       bmi        bp        s1        s2        s3  \\\n",
       "0  0.038076  0.050680  0.061696  0.021872 -0.044223 -0.034821 -0.043401   \n",
       "1 -0.001882 -0.044642 -0.051474 -0.026328 -0.008449 -0.019163  0.074412   \n",
       "2  0.085299  0.050680  0.044451 -0.005670 -0.045599 -0.034194 -0.032356   \n",
       "3 -0.089063 -0.044642 -0.011595 -0.036656  0.012191  0.024991 -0.036038   \n",
       "4  0.005383 -0.044642 -0.036385  0.021872  0.003935  0.015596  0.008142   \n",
       "\n",
       "         s4        s5        s6  \n",
       "0 -0.002592  0.019907 -0.017646  \n",
       "1 -0.039493 -0.068332 -0.092204  \n",
       "2 -0.002592  0.002861 -0.025930  \n",
       "3  0.034309  0.022688 -0.009362  \n",
       "4 -0.002592 -0.031988 -0.046641  "
      ]
     },
     "execution_count": 12,
     "metadata": {},
     "output_type": "execute_result"
    }
   ],
   "source": [
    "X.head(5)"
   ]
  },
  {
   "cell_type": "code",
   "execution_count": 13,
   "id": "c511e7c7",
   "metadata": {},
   "outputs": [
    {
     "data": {
      "application/vnd.microsoft.datawrangler.viewer.v0+json": {
       "columns": [
        {
         "name": "index",
         "rawType": "int64",
         "type": "integer"
        },
        {
         "name": "target",
         "rawType": "float64",
         "type": "float"
        }
       ],
       "ref": "ebdc390c-c176-4365-9224-66919f8ffc36",
       "rows": [
        [
         "0",
         "151.0"
        ],
        [
         "1",
         "75.0"
        ],
        [
         "2",
         "141.0"
        ],
        [
         "3",
         "206.0"
        ],
        [
         "4",
         "135.0"
        ]
       ],
       "shape": {
        "columns": 1,
        "rows": 5
       }
      },
      "text/plain": [
       "0    151.0\n",
       "1     75.0\n",
       "2    141.0\n",
       "3    206.0\n",
       "4    135.0\n",
       "Name: target, dtype: float64"
      ]
     },
     "execution_count": 13,
     "metadata": {},
     "output_type": "execute_result"
    }
   ],
   "source": [
    "y.head(5)"
   ]
  },
  {
   "cell_type": "markdown",
   "id": "dd0f1fd7",
   "metadata": {},
   "source": [
    "Rename columns to clarify value importance"
   ]
  },
  {
   "cell_type": "code",
   "execution_count": 25,
   "id": "8ae4b026",
   "metadata": {},
   "outputs": [],
   "source": [
    "X = X.rename(columns={\"bp\": \"Avg Blood pressure\",\n",
    "                  \"s1\":\"Serum Cholesterol\", \n",
    "                  \"s2\":\"Low-density lipoproteins\",\n",
    "                  \"s3\":\"High-density lipo\",\n",
    "                  \"s4\":\"Total cholesterol\",\n",
    "                  \"s5\":\"Triglycerides level\",\n",
    "                  \"s6\":\"Blood sugar\"})"
   ]
  },
  {
   "cell_type": "code",
   "execution_count": 26,
   "id": "89d4635d",
   "metadata": {},
   "outputs": [
    {
     "data": {
      "text/plain": [
       "Index(['age', 'sex', 'bmi', 'Avg Blood pressure', 'Serum Cholesterol',\n",
       "       'Low-density lipoproteins', 'High-density lipo', 'Total cholesterol',\n",
       "       'Triglycerides level', 'Blood sugar'],\n",
       "      dtype='object')"
      ]
     },
     "execution_count": 26,
     "metadata": {},
     "output_type": "execute_result"
    }
   ],
   "source": [
    "X.columns"
   ]
  },
  {
   "cell_type": "code",
   "execution_count": null,
   "id": "d31b711f",
   "metadata": {},
   "outputs": [],
   "source": []
  }
 ],
 "metadata": {
  "kernelspec": {
   "display_name": "env",
   "language": "python",
   "name": "python3"
  },
  "language_info": {
   "codemirror_mode": {
    "name": "ipython",
    "version": 3
   },
   "file_extension": ".py",
   "mimetype": "text/x-python",
   "name": "python",
   "nbconvert_exporter": "python",
   "pygments_lexer": "ipython3",
   "version": "3.13.7"
  }
 },
 "nbformat": 4,
 "nbformat_minor": 5
}
